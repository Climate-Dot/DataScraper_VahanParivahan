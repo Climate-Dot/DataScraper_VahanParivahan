{
 "cells": [
  {
   "cell_type": "code",
   "execution_count": 1,
   "id": "0eb3a46e",
   "metadata": {},
   "outputs": [],
   "source": [
    "# import drivers and libraries\n",
    "\n",
    "from selenium import webdriver\n",
    "from selenium.webdriver.common.keys import Keys\n",
    "from selenium.webdriver.common.by import By\n",
    "import time\n",
    "from selenium.webdriver.edge.options import Options"
   ]
  },
  {
   "cell_type": "code",
   "execution_count": 2,
   "id": "caabcd1a",
   "metadata": {},
   "outputs": [],
   "source": [
    "# D:\\Users\\shubh\\Documents\\ClimateDot\\EV data\\Data\\nextmonth\n",
    "from selenium.webdriver.edge.service import Service\n",
    "service = Service(\"D:\\Program Files\\edgedriver_win64\")\n",
    "driver = webdriver.Edge(service=service)\n",
    "driver.get(\"https://vahan.parivahan.gov.in/vahan4dashboard/vahan/view/reportview.xhtml\")\n",
    "download_directory = r\"D:\\Users\\shubh\\Documents\\ClimateDot\\EV data\\Data\\nextmonth\""
   ]
  },
  {
   "cell_type": "markdown",
   "id": "e4f59a58",
   "metadata": {},
   "source": [
    "# Change ID labels here:"
   ]
  },
  {
   "cell_type": "code",
   "execution_count": 3,
   "id": "c5ee4563",
   "metadata": {},
   "outputs": [],
   "source": [
    "# Define ID labels\n",
    "\n",
    "State_label = \"j_idt71_label\" #Sets the State label. Change value if needed.\n",
    "Yaxis_label = \"yaxisVar_label\" #Sets the Y-axis label. Change value if needed.\n",
    "Xaxis_label = \"xaxisVar_label\" #Sets the X-axis label. Change value if needed.\n",
    "YearType_label = \"selectedYearType_label\" #Sets the Year type label. Change value if needed.\n",
    "Rto_label = \"selectedRto_label\" #Sets the label for rto selection. Change value if needed.\n",
    "\n",
    "Year_label = \"selectedYear_label\" #Sets the Year label. Change value if needed.\n",
    "\n",
    "Refresh = \"j_idt113\" #Hit the refresh button label. Change value if needed.\n",
    "\n",
    "Month_label = \"groupingTable:selectMonth_label\"  #Sets the Month label. Change value if needed.\n",
    "\n",
    "Download_Excel = \"groupingTable:j_idt134\" #Hit the download excel button and downloads excel. Change value if needed."
   ]
  },
  {
   "cell_type": "markdown",
   "id": "12c55e8e",
   "metadata": {},
   "source": [
    "# Change ID values here:"
   ]
  },
  {
   "cell_type": "code",
   "execution_count": 4,
   "id": "441271dd",
   "metadata": {},
   "outputs": [],
   "source": [
    "# Define ID values\n",
    "\n",
    "Yaxis_value = \"yaxisVar_1\" #Selects Vehicle Class in Y-axis filter. Change value if needed.\n",
    "Xaxis_value = \"xaxisVar_2\" #Selects Fuel in X-axis filter. Change value if needed.\n",
    "YearType_value = \"selectedYearType_2\" #Selects Calendar Year in Year-type filter. Change value if needed.\n",
    "\n",
    "\n",
    "#A list of all States in State filter. Change value if needed.\n",
    "State_value = [ \"j_idt71_1\", \"j_idt71_2\", \"j_idt71_3\", \"j_idt71_4\", \"j_idt71_5\", \"j_idt71_6\", \"j_idt71_7\", \"j_idt71_8\", \"j_idt71_9\", \n",
    "               \"j_idt71_10\", \"j_idt71_11\", \"j_idt71_12\", \"j_idt71_13\", \"j_idt71_14\",\"j_idt71_15\",\"j_idt71_16\", \"j_idt71_17\",\n",
    "               \"j_idt71_18\", \"j_idt71_19\", \"j_idt71_20\", \"j_idt71_21\", \"j_idt71_22\", \"j_idt71_23\", \"j_idt71_24\",\n",
    "               \"j_idt71_25\", \"j_idt71_26\", \"j_idt71_27\",  \"j_idt71_28\",\"j_idt71_29\", \"j_idt71_30\", \"j_idt71_31\", \"j_idt71_32\",\n",
    "               \"j_idt71_33\", \"j_idt71_34\"]\n",
    "\n",
    " \n",
    "\n",
    "#Select only the latest year\n",
    "Year_value = [\"selectedYear_2\"]\n",
    "\n",
    "#Select only the latest month\n",
    "Month_value = [\"groupingTable:selectMonth_9\"]\n",
    "#    \"groupingTable:selectMonth_1\",\"groupingTable:selectMonth_2\",\"groupingTable:selectMonth_3\",\n",
    "#               \"groupingTable:selectMonth_4\",\"groupingTable:selectMonth_5\",\"groupingTable:selectMonth_6\"         \n",
    "#             \"groupingTable:selectMonth_7\",\"groupingTable:selectMonth_8\",\"groupingTable:selectMonth_9\",\n",
    "#             \"groupingTable:selectMonth_10\",\"groupingTable:selectMonth_11\",\"groupingTable:selectMonth_12\"]\n",
    "\n"
   ]
  },
  {
   "cell_type": "markdown",
   "id": "2827b7e1",
   "metadata": {},
   "source": [
    "# Main Body of the Program"
   ]
  },
  {
   "cell_type": "code",
   "execution_count": 5,
   "id": "70ec0de6",
   "metadata": {},
   "outputs": [],
   "source": [
    "# Set main filters\n",
    "\n",
    "# time.sleep(2)\n",
    "\n",
    "# 1. set State as \"Gujarat\"\n",
    "# driver.find_element(By.ID, State_label).click()\n",
    "# time.sleep(0.5)\n",
    "# driver.find_element(By.ID, State_value).click()\n",
    "# time.sleep(0.5)\n",
    "\n",
    "# 2. set Y-axis as \"Vehicle Class\" \n",
    "driver.find_element(By.ID, Yaxis_label).click()\n",
    "time.sleep(0.5)\n",
    "driver.find_element(By.ID, Yaxis_value).click()\n",
    "time.sleep(0.5)\n",
    "\n",
    "# 3. set X-axis as \"Fuel\"\n",
    "driver.find_element(By.ID, Xaxis_label).click()\n",
    "time.sleep(0.5)\n",
    "driver.find_element(By.ID, Xaxis_value).click()\n",
    "time.sleep(0.5)\n",
    "\n",
    "# 4. set Year Type as \"Calendar Year\"\n",
    "driver.find_element(By.ID, YearType_label).click()\n",
    "time.sleep(0.5)\n",
    "driver.find_element(By.ID, YearType_value).click()\n",
    "time.sleep(0.5)\n"
   ]
  },
  {
   "cell_type": "code",
   "execution_count": 6,
   "id": "414b5553",
   "metadata": {},
   "outputs": [],
   "source": [
    "# Primary Loop\n",
    "\n",
    "for state in State_value:\n",
    "    driver.find_element(By.ID, State_label).click()\n",
    "    time.sleep(0.5)\n",
    "    driver.find_element(By.ID, state).click()\n",
    "    time.sleep(1)\n",
    "\n",
    "    for year in Year_value:\n",
    "        # set Year as \"2023\"\n",
    "        driver.find_element(By.ID, Year_label).click()\n",
    "        time.sleep(1)\n",
    "        driver.find_element(By.ID, year).click()\n",
    "        time.sleep(2)\n",
    "    \n",
    "        # hit Refresh button\n",
    "        driver.find_element(By.ID, Refresh).click()\n",
    "        time.sleep(2)\n",
    "    \n",
    "        # Secondary Loop\n",
    "        for month in Month_value:\n",
    "        # selecting month\n",
    "            driver.find_element(By.ID, Month_label).click()\n",
    "            time.sleep(1)\n",
    "            driver.find_element(By.ID, month).click()\n",
    "            time.sleep(2)\n",
    "        \n",
    "            # download Excel\n",
    "            driver.find_element(By.ID, Download_Excel).click()\n",
    "            time.sleep(0.5)"
   ]
  }
 ],
 "metadata": {
  "kernelspec": {
   "display_name": "Python 3 (ipykernel)",
   "language": "python",
   "name": "python3"
  },
  "language_info": {
   "codemirror_mode": {
    "name": "ipython",
    "version": 3
   },
   "file_extension": ".py",
   "mimetype": "text/x-python",
   "name": "python",
   "nbconvert_exporter": "python",
   "pygments_lexer": "ipython3",
   "version": "3.10.9"
  }
 },
 "nbformat": 4,
 "nbformat_minor": 5
}
