{
 "cells": [
  {
   "cell_type": "markdown",
   "metadata": {},
   "source": [
    "# Data extraction program to extract data from 'Vahan Parivahan' website\n",
    "\n",
    "This Python program mimics the human action to extract (download) data from 'Vahan Parivahan' website. It uses 'Selenium' library in Python to do the same."
   ]
  },
  {
   "cell_type": "markdown",
   "metadata": {},
   "source": [
    "### Importing libraries, drivers, and setting up the web driver"
   ]
  },
  {
   "cell_type": "code",
   "execution_count": 1,
   "metadata": {
    "scrolled": true
   },
   "outputs": [],
   "source": [
    "# import drivers and libraries\n",
    "\n",
    "from selenium import webdriver\n",
    "from selenium.webdriver.common.keys import Keys\n",
    "from selenium.webdriver.common.by import By\n",
    "import time\n",
    "from selenium.webdriver.edge.options import Options"
   ]
  },
  {
   "cell_type": "code",
   "execution_count": null,
   "metadata": {},
   "outputs": [],
   "source": [
    "# from webdriver_manager.chrome import ChromeDriverManager\n",
    "# driver = webdriver.Chrome(ChromeDriverManager().install())"
   ]
  },
  {
   "cell_type": "code",
   "execution_count": 2,
   "metadata": {},
   "outputs": [],
   "source": [
    "# setting up chrome web driver for selenium\n",
    "\n",
    "from selenium.webdriver.edge.service import Service\n",
    "service = Service(\"C:\\Program Files\\edgedriver_win64\\msedgedriver.exe\")\n",
    "driver = webdriver.Edge(service=service)\n",
    "driver.get(\"https://vahan.parivahan.gov.in/vahan4dashboard/vahan/view/reportview.xhtml\")\n",
    "download_directory = r\"D:\\Users\\shubh\\Documents\\ClimateDot\\EV data\\Data\\historical data\""
   ]
  },
  {
   "cell_type": "markdown",
   "metadata": {},
   "source": [
    "### Change ID labels here:"
   ]
  },
  {
   "cell_type": "code",
   "execution_count": 3,
   "metadata": {},
   "outputs": [],
   "source": [
    "# Define ID labels\n",
    "\n",
    "State_label = \"j_idt31_label\" #Sets the State label. Change value if needed.\n",
    "Yaxis_label = \"yaxisVar_label\" #Sets the Y-axis label. Change value if needed.\n",
    "Xaxis_label = \"xaxisVar_label\" #Sets the X-axis label. Change value if needed.\n",
    "YearType_label = \"selectedYearType_label\" #Sets the Year type label. Change value if needed.\n",
    "Rto_label = \"selectedRto_label\" #Sets the label for rto selection. Change value if needed.\n",
    "\n",
    "Year_label = \"selectedYear_label\" #Sets the Year label. Change value if needed.\n",
    "\n",
    "Refresh = \"j_idt61\" #Hit the refresh button label. Change value if needed.\n",
    "\n",
    "Month_label = \"groupingTable:selectMonth_label\"  #Sets the Month label. Change value if needed.\n",
    "\n",
    "Download_Excel = \"groupingTable:j_idt75\" #Hit the download excel button and downloads excel. Change value if needed."
   ]
  },
  {
   "cell_type": "markdown",
   "metadata": {},
   "source": [
    "### Change ID values here:"
   ]
  },
  {
   "cell_type": "code",
   "execution_count": 4,
   "metadata": {},
   "outputs": [],
   "source": [
    "# Define ID values\n",
    "\n",
    "Yaxis_value = \"yaxisVar_1\" #Selects Vehicle Class in Y-axis filter. Change value if needed.\n",
    "Xaxis_value = \"xaxisVar_2\" #Selects Fuel in X-axis filter. Change value if needed.\n",
    "YearType_value = \"selectedYearType_2\" #Selects Calendar Year in Year-type filter. Change value if needed.\n",
    "\n",
    "\n",
    "#A list of all States in State filter. Change value if needed.\n",
    "State_value = [ \"j_idt31_1\", \"j_idt31_2\", \"j_idt31_3\", \"j_idt31_4\", \"j_idt31_5\", \"j_idt31_6\", \"j_idt31_7\", \"j_idt31_8\", \"j_idt31_9\", \n",
    "               \"j_idt31_10\", \"j_idt31_11\", \"j_idt31_12\", \"j_idt31_13\", \"j_idt31_14\",\"j_idt31_15\",\"j_idt31_16\", \"j_idt31_17\",\n",
    "               \"j_idt31_18\", \"j_idt31_19\", \"j_idt31_20\", \"j_idt31_21\", \"j_idt31_22\", \"j_idt31_23\", \"j_idt31_24\",\n",
    "               \"j_idt31_25\", \"j_idt31_26\", \"j_idt31_27\",  \"j_idt31_28\",\"j_idt31_29\", \"j_idt31_30\", \"j_idt31_31\", \"j_idt31_32\",\n",
    "               \"j_idt31_33\", \"j_idt31_34\"]\n",
    "\n",
    "         \n",
    "\n",
    "#A list of all years avaiable, starting from 2023 to 2014\n",
    "Year_value = [\"selectedYear_3\",\"selectedYear_4\",\n",
    "             \"selectedYear_5\",\"selectedYear_6\",\"selectedYear_7\",\n",
    "             \"selectedYear_8\",\"selectedYear_9\",\"selectedYear_10\",\"selectedYear_11\"]\n",
    "             \n",
    "\n",
    "#A list of all months available, January to December\n",
    "Month_value = [\"groupingTable:selectMonth_1\",\"groupingTable:selectMonth_2\",\"groupingTable:selectMonth_3\",\n",
    "              \"groupingTable:selectMonth_4\",\"groupingTable:selectMonth_5\", \"groupingTable:selectMonth_6\",\n",
    "              \"groupingTable:selectMonth_7\",\"groupingTable:selectMonth_8\",\"groupingTable:selectMonth_9\",\n",
    "              \"groupingTable:selectMonth_10\",\"groupingTable:selectMonth_11\",\"groupingTable:selectMonth_12\"]\n",
    "\n",
    "\n"
   ]
  },
  {
   "cell_type": "markdown",
   "metadata": {},
   "source": [
    "### Main body of the program"
   ]
  },
  {
   "cell_type": "code",
   "execution_count": 5,
   "metadata": {},
   "outputs": [],
   "source": [
    "# Set main filters\n",
    "\n",
    "# time.sleep(2)\n",
    "\n",
    "# 1. set State as \"Gujarat\"\n",
    "# driver.find_element(By.ID, State_label).click()\n",
    "# time.sleep(0.5)\n",
    "# driver.find_element(By.ID, State_value).click()\n",
    "# time.sleep(0.5)\n",
    "\n",
    "# 2. set Y-axis as \"Vehicle Class\" \n",
    "# WebDriverWait(driver, 20).until(EC.element_to_be_clickable((By.ID, Yaxis_label))).click()\n",
    "driver.find_element(By.ID, Yaxis_label).click()\n",
    "time.sleep(0.5)\n",
    "driver.find_element(By.ID, Yaxis_value).click()\n",
    "time.sleep(0.5)\n",
    "\n",
    "# 3. set X-axis as \"Fuel\"\n",
    "# WebDriverWait(driver, 20).until(EC.element_to_be_clickable((By.ID, Xaxis_label))).click()\n",
    "driver.find_element(By.ID, Xaxis_label).click()\n",
    "time.sleep(0.5)\n",
    "driver.find_element(By.ID, Xaxis_value).click()\n",
    "time.sleep(0.5)\n",
    "\n",
    "# 4. set Year Type as \"Calendar Year\"\n",
    "# WebDriverWait(driver, 15).until(EC.element_to_be_clickable((By.ID, YearType_label))).click()\n",
    "driver.find_element(By.ID, YearType_label).click()\n",
    "time.sleep(0.5)\n",
    "driver.find_element(By.ID, YearType_value).click()\n",
    "time.sleep(0.5)\n",
    "\n"
   ]
  },
  {
   "cell_type": "code",
   "execution_count": 6,
   "metadata": {},
   "outputs": [],
   "source": [
    "# Primary Loop\n",
    "\n",
    "for state in State_value:\n",
    "    driver.find_element(By.ID, State_label).click()\n",
    "    time.sleep(0.5)\n",
    "    driver.find_element(By.ID, state).click()\n",
    "    time.sleep(1)\n",
    "\n",
    "    for year in Year_value:\n",
    "        # set Year as \"2023\"\n",
    "        driver.find_element(By.ID, Year_label).click()\n",
    "        time.sleep(1)\n",
    "        driver.find_element(By.ID, year).click()\n",
    "        time.sleep(2)\n",
    "    \n",
    "        # hit Refresh button\n",
    "        driver.find_element(By.ID, Refresh).click()\n",
    "        time.sleep(2)\n",
    "    \n",
    "        # Secondary Loop\n",
    "        for month in Month_value:\n",
    "        # selecting month\n",
    "            driver.find_element(By.ID, Month_label).click()\n",
    "            time.sleep(1)\n",
    "            driver.find_element(By.ID, month).click()\n",
    "            time.sleep(2)\n",
    "        \n",
    "            # download Excel\n",
    "            driver.find_element(By.ID, Download_Excel).click()\n",
    "            time.sleep(0.5)"
   ]
  }
 ],
 "metadata": {
  "kernelspec": {
   "display_name": "Python 3 (ipykernel)",
   "language": "python",
   "name": "python3"
  },
  "language_info": {
   "codemirror_mode": {
    "name": "ipython",
    "version": 3
   },
   "file_extension": ".py",
   "mimetype": "text/x-python",
   "name": "python",
   "nbconvert_exporter": "python",
   "pygments_lexer": "ipython3",
   "version": "3.10.9"
  }
 },
 "nbformat": 4,
 "nbformat_minor": 4
}
